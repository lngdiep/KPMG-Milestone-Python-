{
 "cells": [
  {
   "cell_type": "code",
   "execution_count": 247,
   "metadata": {},
   "outputs": [],
   "source": [
    "#data wrangling\n",
    "import pandas as pd\n",
    "import numpy as np\n",
    "\n",
    "#datetime\n",
    "import datetime as dt\n"
   ]
  },
  {
   "cell_type": "code",
   "execution_count": 248,
   "metadata": {
    "scrolled": true
   },
   "outputs": [
    {
     "name": "stdout",
     "output_type": "stream",
     "text": [
      "   transaction_id  product_id  customer_id transaction_date  online_order  \\\n",
      "0               1          20         3349       2017-03-18           1.0   \n",
      "1               2          17         1002       2017-02-24           0.0   \n",
      "2               3          16         2282       2017-02-18           0.0   \n",
      "3               4          46         2656       2017-01-07           0.0   \n",
      "4               5          71         2409       2017-07-05           1.0   \n",
      "\n",
      "  order_status           brand product_line product_class product_size  \\\n",
      "0     Approved   Trek Bicycles     Standard        medium        small   \n",
      "1     Approved           Solex     Standard          high       medium   \n",
      "2     Approved  Norco Bicycles     Standard          high        small   \n",
      "3     Approved           Solex     Standard           low       medium   \n",
      "4     Approved           Solex     Standard          high        large   \n",
      "\n",
      "   list_price  standard_cost product_first_sold_date  \n",
      "0     1775.81        1580.47                   40303  \n",
      "1     1024.66         614.80                   40670  \n",
      "2     1661.92        1479.11                   41345  \n",
      "3     1289.85          74.51                   41064  \n",
      "4     1842.92        1105.75                   34996  \n"
     ]
    }
   ],
   "source": [
    "# load sheet Transactions trong file KPMG và in ra 5 dòng đầu tiên\n",
    "transactions = pd.read_excel('KPMG.xlsx', sheet_name='Transactions')\n",
    "\n",
    "print(transactions.head(5))"
   ]
  },
  {
   "cell_type": "code",
   "execution_count": 249,
   "metadata": {},
   "outputs": [
    {
     "name": "stdout",
     "output_type": "stream",
     "text": [
      "<class 'pandas.core.frame.DataFrame'>\n",
      "RangeIndex: 20000 entries, 0 to 19999\n",
      "Data columns (total 13 columns):\n",
      " #   Column                   Non-Null Count  Dtype         \n",
      "---  ------                   --------------  -----         \n",
      " 0   transaction_id           20000 non-null  int64         \n",
      " 1   product_id               20000 non-null  int64         \n",
      " 2   customer_id              20000 non-null  int64         \n",
      " 3   transaction_date         20000 non-null  datetime64[ns]\n",
      " 4   online_order             19640 non-null  float64       \n",
      " 5   order_status             20000 non-null  object        \n",
      " 6   brand                    19803 non-null  object        \n",
      " 7   product_line             19803 non-null  object        \n",
      " 8   product_class            19803 non-null  object        \n",
      " 9   product_size             19803 non-null  object        \n",
      " 10  list_price               20000 non-null  float64       \n",
      " 11  standard_cost            19803 non-null  float64       \n",
      " 12  product_first_sold_date  19803 non-null  object        \n",
      "dtypes: datetime64[ns](1), float64(3), int64(3), object(6)\n",
      "memory usage: 2.0+ MB\n",
      "None\n"
     ]
    }
   ],
   "source": [
    "# in ra info bảng\n",
    "print(transactions.info())"
   ]
  },
  {
   "cell_type": "code",
   "execution_count": 250,
   "metadata": {
    "scrolled": true
   },
   "outputs": [
    {
     "data": {
      "text/html": [
       "<div>\n",
       "<style scoped>\n",
       "    .dataframe tbody tr th:only-of-type {\n",
       "        vertical-align: middle;\n",
       "    }\n",
       "\n",
       "    .dataframe tbody tr th {\n",
       "        vertical-align: top;\n",
       "    }\n",
       "\n",
       "    .dataframe thead th {\n",
       "        text-align: right;\n",
       "    }\n",
       "</style>\n",
       "<table border=\"1\" class=\"dataframe\">\n",
       "  <thead>\n",
       "    <tr style=\"text-align: right;\">\n",
       "      <th></th>\n",
       "      <th>transaction_id</th>\n",
       "      <th>product_id</th>\n",
       "      <th>customer_id</th>\n",
       "      <th>online_order</th>\n",
       "      <th>list_price</th>\n",
       "      <th>standard_cost</th>\n",
       "    </tr>\n",
       "  </thead>\n",
       "  <tbody>\n",
       "    <tr>\n",
       "      <th>count</th>\n",
       "      <td>20000.000000</td>\n",
       "      <td>20000.00000</td>\n",
       "      <td>20000.000000</td>\n",
       "      <td>19640.000000</td>\n",
       "      <td>20000.000000</td>\n",
       "      <td>19803.000000</td>\n",
       "    </tr>\n",
       "    <tr>\n",
       "      <th>mean</th>\n",
       "      <td>10000.500000</td>\n",
       "      <td>45.36465</td>\n",
       "      <td>1738.246050</td>\n",
       "      <td>0.500458</td>\n",
       "      <td>1107.829449</td>\n",
       "      <td>556.046951</td>\n",
       "    </tr>\n",
       "    <tr>\n",
       "      <th>std</th>\n",
       "      <td>5773.647028</td>\n",
       "      <td>30.75359</td>\n",
       "      <td>1011.951046</td>\n",
       "      <td>0.500013</td>\n",
       "      <td>582.825242</td>\n",
       "      <td>405.955660</td>\n",
       "    </tr>\n",
       "    <tr>\n",
       "      <th>min</th>\n",
       "      <td>1.000000</td>\n",
       "      <td>0.00000</td>\n",
       "      <td>1.000000</td>\n",
       "      <td>0.000000</td>\n",
       "      <td>12.010000</td>\n",
       "      <td>7.210000</td>\n",
       "    </tr>\n",
       "    <tr>\n",
       "      <th>25%</th>\n",
       "      <td>5000.750000</td>\n",
       "      <td>18.00000</td>\n",
       "      <td>857.750000</td>\n",
       "      <td>0.000000</td>\n",
       "      <td>575.270000</td>\n",
       "      <td>215.140000</td>\n",
       "    </tr>\n",
       "    <tr>\n",
       "      <th>50%</th>\n",
       "      <td>10000.500000</td>\n",
       "      <td>44.00000</td>\n",
       "      <td>1736.000000</td>\n",
       "      <td>1.000000</td>\n",
       "      <td>1163.890000</td>\n",
       "      <td>507.580000</td>\n",
       "    </tr>\n",
       "    <tr>\n",
       "      <th>75%</th>\n",
       "      <td>15000.250000</td>\n",
       "      <td>72.00000</td>\n",
       "      <td>2613.000000</td>\n",
       "      <td>1.000000</td>\n",
       "      <td>1635.300000</td>\n",
       "      <td>795.100000</td>\n",
       "    </tr>\n",
       "    <tr>\n",
       "      <th>max</th>\n",
       "      <td>20000.000000</td>\n",
       "      <td>100.00000</td>\n",
       "      <td>5034.000000</td>\n",
       "      <td>1.000000</td>\n",
       "      <td>2091.470000</td>\n",
       "      <td>1759.850000</td>\n",
       "    </tr>\n",
       "  </tbody>\n",
       "</table>\n",
       "</div>"
      ],
      "text/plain": [
       "       transaction_id   product_id   customer_id  online_order    list_price  \\\n",
       "count    20000.000000  20000.00000  20000.000000  19640.000000  20000.000000   \n",
       "mean     10000.500000     45.36465   1738.246050      0.500458   1107.829449   \n",
       "std       5773.647028     30.75359   1011.951046      0.500013    582.825242   \n",
       "min          1.000000      0.00000      1.000000      0.000000     12.010000   \n",
       "25%       5000.750000     18.00000    857.750000      0.000000    575.270000   \n",
       "50%      10000.500000     44.00000   1736.000000      1.000000   1163.890000   \n",
       "75%      15000.250000     72.00000   2613.000000      1.000000   1635.300000   \n",
       "max      20000.000000    100.00000   5034.000000      1.000000   2091.470000   \n",
       "\n",
       "       standard_cost  \n",
       "count   19803.000000  \n",
       "mean      556.046951  \n",
       "std       405.955660  \n",
       "min         7.210000  \n",
       "25%       215.140000  \n",
       "50%       507.580000  \n",
       "75%       795.100000  \n",
       "max      1759.850000  "
      ]
     },
     "execution_count": 250,
     "metadata": {},
     "output_type": "execute_result"
    }
   ],
   "source": [
    "# describe default\n",
    "transactions.describe()"
   ]
  },
  {
   "cell_type": "code",
   "execution_count": 251,
   "metadata": {
    "scrolled": true
   },
   "outputs": [
    {
     "data": {
      "text/html": [
       "<div>\n",
       "<style scoped>\n",
       "    .dataframe tbody tr th:only-of-type {\n",
       "        vertical-align: middle;\n",
       "    }\n",
       "\n",
       "    .dataframe tbody tr th {\n",
       "        vertical-align: top;\n",
       "    }\n",
       "\n",
       "    .dataframe thead th {\n",
       "        text-align: right;\n",
       "    }\n",
       "</style>\n",
       "<table border=\"1\" class=\"dataframe\">\n",
       "  <thead>\n",
       "    <tr style=\"text-align: right;\">\n",
       "      <th></th>\n",
       "      <th>order_status</th>\n",
       "      <th>brand</th>\n",
       "      <th>product_line</th>\n",
       "      <th>product_class</th>\n",
       "      <th>product_size</th>\n",
       "      <th>product_first_sold_date</th>\n",
       "    </tr>\n",
       "  </thead>\n",
       "  <tbody>\n",
       "    <tr>\n",
       "      <th>count</th>\n",
       "      <td>20000</td>\n",
       "      <td>19803</td>\n",
       "      <td>19803</td>\n",
       "      <td>19803</td>\n",
       "      <td>19803</td>\n",
       "      <td>19803</td>\n",
       "    </tr>\n",
       "    <tr>\n",
       "      <th>unique</th>\n",
       "      <td>2</td>\n",
       "      <td>6</td>\n",
       "      <td>4</td>\n",
       "      <td>3</td>\n",
       "      <td>3</td>\n",
       "      <td>101</td>\n",
       "    </tr>\n",
       "    <tr>\n",
       "      <th>top</th>\n",
       "      <td>Approved</td>\n",
       "      <td>Solex</td>\n",
       "      <td>Standard</td>\n",
       "      <td>medium</td>\n",
       "      <td>medium</td>\n",
       "      <td>33879</td>\n",
       "    </tr>\n",
       "    <tr>\n",
       "      <th>freq</th>\n",
       "      <td>19821</td>\n",
       "      <td>4253</td>\n",
       "      <td>14176</td>\n",
       "      <td>13826</td>\n",
       "      <td>12990</td>\n",
       "      <td>234</td>\n",
       "    </tr>\n",
       "  </tbody>\n",
       "</table>\n",
       "</div>"
      ],
      "text/plain": [
       "       order_status  brand product_line product_class product_size  \\\n",
       "count         20000  19803        19803         19803        19803   \n",
       "unique            2      6            4             3            3   \n",
       "top        Approved  Solex     Standard        medium       medium   \n",
       "freq          19821   4253        14176         13826        12990   \n",
       "\n",
       "        product_first_sold_date  \n",
       "count                     19803  \n",
       "unique                      101  \n",
       "top                       33879  \n",
       "freq                        234  "
      ]
     },
     "execution_count": 251,
     "metadata": {},
     "output_type": "execute_result"
    }
   ],
   "source": [
    "# describe các biến object\n",
    "transactions.describe(include='object')"
   ]
  },
  {
   "cell_type": "code",
   "execution_count": 252,
   "metadata": {
    "scrolled": false
   },
   "outputs": [
    {
     "data": {
      "text/html": [
       "<div>\n",
       "<style scoped>\n",
       "    .dataframe tbody tr th:only-of-type {\n",
       "        vertical-align: middle;\n",
       "    }\n",
       "\n",
       "    .dataframe tbody tr th {\n",
       "        vertical-align: top;\n",
       "    }\n",
       "\n",
       "    .dataframe thead th {\n",
       "        text-align: right;\n",
       "    }\n",
       "</style>\n",
       "<table border=\"1\" class=\"dataframe\">\n",
       "  <thead>\n",
       "    <tr style=\"text-align: right;\">\n",
       "      <th></th>\n",
       "      <th>transaction_id</th>\n",
       "      <th>product_id</th>\n",
       "      <th>customer_id</th>\n",
       "      <th>transaction_date</th>\n",
       "      <th>online_order</th>\n",
       "      <th>order_status</th>\n",
       "      <th>brand</th>\n",
       "      <th>product_line</th>\n",
       "      <th>product_class</th>\n",
       "      <th>product_size</th>\n",
       "      <th>list_price</th>\n",
       "      <th>standard_cost</th>\n",
       "      <th>product_first_sold_date</th>\n",
       "    </tr>\n",
       "  </thead>\n",
       "  <tbody>\n",
       "    <tr>\n",
       "      <th>count</th>\n",
       "      <td>20000.000000</td>\n",
       "      <td>20000.00000</td>\n",
       "      <td>20000.000000</td>\n",
       "      <td>20000</td>\n",
       "      <td>19640.000000</td>\n",
       "      <td>20000</td>\n",
       "      <td>19803</td>\n",
       "      <td>19803</td>\n",
       "      <td>19803</td>\n",
       "      <td>19803</td>\n",
       "      <td>20000.000000</td>\n",
       "      <td>19803.000000</td>\n",
       "      <td>19803.0</td>\n",
       "    </tr>\n",
       "    <tr>\n",
       "      <th>unique</th>\n",
       "      <td>NaN</td>\n",
       "      <td>NaN</td>\n",
       "      <td>NaN</td>\n",
       "      <td>NaN</td>\n",
       "      <td>NaN</td>\n",
       "      <td>2</td>\n",
       "      <td>6</td>\n",
       "      <td>4</td>\n",
       "      <td>3</td>\n",
       "      <td>3</td>\n",
       "      <td>NaN</td>\n",
       "      <td>NaN</td>\n",
       "      <td>101.0</td>\n",
       "    </tr>\n",
       "    <tr>\n",
       "      <th>top</th>\n",
       "      <td>NaN</td>\n",
       "      <td>NaN</td>\n",
       "      <td>NaN</td>\n",
       "      <td>NaN</td>\n",
       "      <td>NaN</td>\n",
       "      <td>Approved</td>\n",
       "      <td>Solex</td>\n",
       "      <td>Standard</td>\n",
       "      <td>medium</td>\n",
       "      <td>medium</td>\n",
       "      <td>NaN</td>\n",
       "      <td>NaN</td>\n",
       "      <td>33879.0</td>\n",
       "    </tr>\n",
       "    <tr>\n",
       "      <th>freq</th>\n",
       "      <td>NaN</td>\n",
       "      <td>NaN</td>\n",
       "      <td>NaN</td>\n",
       "      <td>NaN</td>\n",
       "      <td>NaN</td>\n",
       "      <td>19821</td>\n",
       "      <td>4253</td>\n",
       "      <td>14176</td>\n",
       "      <td>13826</td>\n",
       "      <td>12990</td>\n",
       "      <td>NaN</td>\n",
       "      <td>NaN</td>\n",
       "      <td>234.0</td>\n",
       "    </tr>\n",
       "    <tr>\n",
       "      <th>mean</th>\n",
       "      <td>10000.500000</td>\n",
       "      <td>45.36465</td>\n",
       "      <td>1738.246050</td>\n",
       "      <td>2017-07-01 14:08:05.280000</td>\n",
       "      <td>0.500458</td>\n",
       "      <td>NaN</td>\n",
       "      <td>NaN</td>\n",
       "      <td>NaN</td>\n",
       "      <td>NaN</td>\n",
       "      <td>NaN</td>\n",
       "      <td>1107.829449</td>\n",
       "      <td>556.046951</td>\n",
       "      <td>NaN</td>\n",
       "    </tr>\n",
       "    <tr>\n",
       "      <th>min</th>\n",
       "      <td>1.000000</td>\n",
       "      <td>0.00000</td>\n",
       "      <td>1.000000</td>\n",
       "      <td>2017-01-01 00:00:00</td>\n",
       "      <td>0.000000</td>\n",
       "      <td>NaN</td>\n",
       "      <td>NaN</td>\n",
       "      <td>NaN</td>\n",
       "      <td>NaN</td>\n",
       "      <td>NaN</td>\n",
       "      <td>12.010000</td>\n",
       "      <td>7.210000</td>\n",
       "      <td>NaN</td>\n",
       "    </tr>\n",
       "    <tr>\n",
       "      <th>25%</th>\n",
       "      <td>5000.750000</td>\n",
       "      <td>18.00000</td>\n",
       "      <td>857.750000</td>\n",
       "      <td>2017-04-01 00:00:00</td>\n",
       "      <td>0.000000</td>\n",
       "      <td>NaN</td>\n",
       "      <td>NaN</td>\n",
       "      <td>NaN</td>\n",
       "      <td>NaN</td>\n",
       "      <td>NaN</td>\n",
       "      <td>575.270000</td>\n",
       "      <td>215.140000</td>\n",
       "      <td>NaN</td>\n",
       "    </tr>\n",
       "    <tr>\n",
       "      <th>50%</th>\n",
       "      <td>10000.500000</td>\n",
       "      <td>44.00000</td>\n",
       "      <td>1736.000000</td>\n",
       "      <td>2017-07-03 00:00:00</td>\n",
       "      <td>1.000000</td>\n",
       "      <td>NaN</td>\n",
       "      <td>NaN</td>\n",
       "      <td>NaN</td>\n",
       "      <td>NaN</td>\n",
       "      <td>NaN</td>\n",
       "      <td>1163.890000</td>\n",
       "      <td>507.580000</td>\n",
       "      <td>NaN</td>\n",
       "    </tr>\n",
       "    <tr>\n",
       "      <th>75%</th>\n",
       "      <td>15000.250000</td>\n",
       "      <td>72.00000</td>\n",
       "      <td>2613.000000</td>\n",
       "      <td>2017-10-02 00:00:00</td>\n",
       "      <td>1.000000</td>\n",
       "      <td>NaN</td>\n",
       "      <td>NaN</td>\n",
       "      <td>NaN</td>\n",
       "      <td>NaN</td>\n",
       "      <td>NaN</td>\n",
       "      <td>1635.300000</td>\n",
       "      <td>795.100000</td>\n",
       "      <td>NaN</td>\n",
       "    </tr>\n",
       "    <tr>\n",
       "      <th>max</th>\n",
       "      <td>20000.000000</td>\n",
       "      <td>100.00000</td>\n",
       "      <td>5034.000000</td>\n",
       "      <td>2017-12-30 00:00:00</td>\n",
       "      <td>1.000000</td>\n",
       "      <td>NaN</td>\n",
       "      <td>NaN</td>\n",
       "      <td>NaN</td>\n",
       "      <td>NaN</td>\n",
       "      <td>NaN</td>\n",
       "      <td>2091.470000</td>\n",
       "      <td>1759.850000</td>\n",
       "      <td>NaN</td>\n",
       "    </tr>\n",
       "    <tr>\n",
       "      <th>std</th>\n",
       "      <td>5773.647028</td>\n",
       "      <td>30.75359</td>\n",
       "      <td>1011.951046</td>\n",
       "      <td>NaN</td>\n",
       "      <td>0.500013</td>\n",
       "      <td>NaN</td>\n",
       "      <td>NaN</td>\n",
       "      <td>NaN</td>\n",
       "      <td>NaN</td>\n",
       "      <td>NaN</td>\n",
       "      <td>582.825242</td>\n",
       "      <td>405.955660</td>\n",
       "      <td>NaN</td>\n",
       "    </tr>\n",
       "  </tbody>\n",
       "</table>\n",
       "</div>"
      ],
      "text/plain": [
       "        transaction_id   product_id   customer_id            transaction_date  \\\n",
       "count     20000.000000  20000.00000  20000.000000                       20000   \n",
       "unique             NaN          NaN           NaN                         NaN   \n",
       "top                NaN          NaN           NaN                         NaN   \n",
       "freq               NaN          NaN           NaN                         NaN   \n",
       "mean      10000.500000     45.36465   1738.246050  2017-07-01 14:08:05.280000   \n",
       "min           1.000000      0.00000      1.000000         2017-01-01 00:00:00   \n",
       "25%        5000.750000     18.00000    857.750000         2017-04-01 00:00:00   \n",
       "50%       10000.500000     44.00000   1736.000000         2017-07-03 00:00:00   \n",
       "75%       15000.250000     72.00000   2613.000000         2017-10-02 00:00:00   \n",
       "max       20000.000000    100.00000   5034.000000         2017-12-30 00:00:00   \n",
       "std        5773.647028     30.75359   1011.951046                         NaN   \n",
       "\n",
       "        online_order order_status  brand product_line product_class  \\\n",
       "count   19640.000000        20000  19803        19803         19803   \n",
       "unique           NaN            2      6            4             3   \n",
       "top              NaN     Approved  Solex     Standard        medium   \n",
       "freq             NaN        19821   4253        14176         13826   \n",
       "mean        0.500458          NaN    NaN          NaN           NaN   \n",
       "min         0.000000          NaN    NaN          NaN           NaN   \n",
       "25%         0.000000          NaN    NaN          NaN           NaN   \n",
       "50%         1.000000          NaN    NaN          NaN           NaN   \n",
       "75%         1.000000          NaN    NaN          NaN           NaN   \n",
       "max         1.000000          NaN    NaN          NaN           NaN   \n",
       "std         0.500013          NaN    NaN          NaN           NaN   \n",
       "\n",
       "       product_size    list_price  standard_cost  product_first_sold_date  \n",
       "count         19803  20000.000000   19803.000000                  19803.0  \n",
       "unique            3           NaN            NaN                    101.0  \n",
       "top          medium           NaN            NaN                  33879.0  \n",
       "freq          12990           NaN            NaN                    234.0  \n",
       "mean            NaN   1107.829449     556.046951                      NaN  \n",
       "min             NaN     12.010000       7.210000                      NaN  \n",
       "25%             NaN    575.270000     215.140000                      NaN  \n",
       "50%             NaN   1163.890000     507.580000                      NaN  \n",
       "75%             NaN   1635.300000     795.100000                      NaN  \n",
       "max             NaN   2091.470000    1759.850000                      NaN  \n",
       "std             NaN    582.825242     405.955660                      NaN  "
      ]
     },
     "execution_count": 252,
     "metadata": {},
     "output_type": "execute_result"
    }
   ],
   "source": [
    "# describe all\n",
    "transactions.describe(include='all', datetime_is_numeric=True)"
   ]
  },
  {
   "cell_type": "code",
   "execution_count": 253,
   "metadata": {
    "scrolled": true
   },
   "outputs": [
    {
     "data": {
      "text/plain": [
       "transaction_id               0\n",
       "product_id                   0\n",
       "customer_id                  0\n",
       "transaction_date             0\n",
       "online_order               360\n",
       "order_status                 0\n",
       "brand                      197\n",
       "product_line               197\n",
       "product_class              197\n",
       "product_size               197\n",
       "list_price                   0\n",
       "standard_cost              197\n",
       "product_first_sold_date    197\n",
       "dtype: int64"
      ]
     },
     "execution_count": 253,
     "metadata": {},
     "output_type": "execute_result"
    }
   ],
   "source": [
    "# count số dòng bị null ở mỗi cột\n",
    "transactions.isna().sum()"
   ]
  },
  {
   "cell_type": "markdown",
   "metadata": {},
   "source": [
    "# 1. Data Correction"
   ]
  },
  {
   "cell_type": "markdown",
   "metadata": {},
   "source": [
    "## 1.1 Drop NA"
   ]
  },
  {
   "cell_type": "code",
   "execution_count": 254,
   "metadata": {
    "scrolled": true
   },
   "outputs": [
    {
     "name": "stdout",
     "output_type": "stream",
     "text": [
      "<class 'pandas.core.frame.DataFrame'>\n",
      "Int64Index: 19443 entries, 0 to 19997\n",
      "Data columns (total 13 columns):\n",
      " #   Column                   Non-Null Count  Dtype         \n",
      "---  ------                   --------------  -----         \n",
      " 0   transaction_id           19443 non-null  int64         \n",
      " 1   product_id               19443 non-null  int64         \n",
      " 2   customer_id              19443 non-null  int64         \n",
      " 3   transaction_date         19443 non-null  datetime64[ns]\n",
      " 4   online_order             19443 non-null  float64       \n",
      " 5   order_status             19443 non-null  object        \n",
      " 6   brand                    19443 non-null  object        \n",
      " 7   product_line             19443 non-null  object        \n",
      " 8   product_class            19443 non-null  object        \n",
      " 9   product_size             19443 non-null  object        \n",
      " 10  list_price               19443 non-null  float64       \n",
      " 11  standard_cost            19443 non-null  float64       \n",
      " 12  product_first_sold_date  19443 non-null  object        \n",
      "dtypes: datetime64[ns](1), float64(3), int64(3), object(6)\n",
      "memory usage: 2.1+ MB\n",
      "None\n"
     ]
    }
   ],
   "source": [
    "# tạo bảng df_dropna_all bằng cách loại bỏ tất cả giá trị null trong bảng và in ra info\n",
    "df_dropna_all = transactions.dropna()\n",
    "\n",
    "print(df_dropna_all.info())"
   ]
  },
  {
   "cell_type": "code",
   "execution_count": 255,
   "metadata": {
    "scrolled": true
   },
   "outputs": [
    {
     "name": "stdout",
     "output_type": "stream",
     "text": [
      "<class 'pandas.core.frame.DataFrame'>\n",
      "Int64Index: 19640 entries, 0 to 19999\n",
      "Data columns (total 13 columns):\n",
      " #   Column                   Non-Null Count  Dtype         \n",
      "---  ------                   --------------  -----         \n",
      " 0   transaction_id           19640 non-null  int64         \n",
      " 1   product_id               19640 non-null  int64         \n",
      " 2   customer_id              19640 non-null  int64         \n",
      " 3   transaction_date         19640 non-null  datetime64[ns]\n",
      " 4   online_order             19640 non-null  float64       \n",
      " 5   order_status             19640 non-null  object        \n",
      " 6   brand                    19445 non-null  object        \n",
      " 7   product_line             19445 non-null  object        \n",
      " 8   product_class            19445 non-null  object        \n",
      " 9   product_size             19445 non-null  object        \n",
      " 10  list_price               19640 non-null  float64       \n",
      " 11  standard_cost            19445 non-null  float64       \n",
      " 12  product_first_sold_date  19445 non-null  object        \n",
      "dtypes: datetime64[ns](1), float64(3), int64(3), object(6)\n",
      "memory usage: 2.1+ MB\n",
      "None\n"
     ]
    }
   ],
   "source": [
    "# tạo bảng df_dropna_online_order bằng cách loại bỏ giá trị null trong cột online_order và in ra info\n",
    "df_dropna_online_order = transactions.dropna(subset='online_order')\n",
    "\n",
    "print(df_dropna_online_order.info())"
   ]
  },
  {
   "cell_type": "markdown",
   "metadata": {},
   "source": [
    "## 1.2 Fill NA"
   ]
  },
  {
   "cell_type": "code",
   "execution_count": 256,
   "metadata": {},
   "outputs": [
    {
     "name": "stdout",
     "output_type": "stream",
     "text": [
      "<class 'pandas.core.frame.DataFrame'>\n",
      "RangeIndex: 20000 entries, 0 to 19999\n",
      "Data columns (total 13 columns):\n",
      " #   Column                   Non-Null Count  Dtype         \n",
      "---  ------                   --------------  -----         \n",
      " 0   transaction_id           20000 non-null  int64         \n",
      " 1   product_id               20000 non-null  int64         \n",
      " 2   customer_id              20000 non-null  int64         \n",
      " 3   transaction_date         20000 non-null  datetime64[ns]\n",
      " 4   online_order             20000 non-null  float64       \n",
      " 5   order_status             20000 non-null  object        \n",
      " 6   brand                    20000 non-null  object        \n",
      " 7   product_line             20000 non-null  object        \n",
      " 8   product_class            20000 non-null  object        \n",
      " 9   product_size             20000 non-null  object        \n",
      " 10  list_price               20000 non-null  float64       \n",
      " 11  standard_cost            20000 non-null  float64       \n",
      " 12  product_first_sold_date  20000 non-null  object        \n",
      "dtypes: datetime64[ns](1), float64(3), int64(3), object(6)\n",
      "memory usage: 2.0+ MB\n",
      "None\n"
     ]
    }
   ],
   "source": [
    "# fill tất cả NA bằng 0, lưu vào bảng df_fillna_0 và in ra info\n",
    "df_fillna_0 = transactions.fillna(0)\n",
    "\n",
    "print(df_fillna_0.info())"
   ]
  },
  {
   "cell_type": "code",
   "execution_count": 257,
   "metadata": {},
   "outputs": [
    {
     "name": "stdout",
     "output_type": "stream",
     "text": [
      "<class 'pandas.core.frame.DataFrame'>\n",
      "RangeIndex: 20000 entries, 0 to 19999\n",
      "Data columns (total 13 columns):\n",
      " #   Column                   Non-Null Count  Dtype         \n",
      "---  ------                   --------------  -----         \n",
      " 0   transaction_id           20000 non-null  int64         \n",
      " 1   product_id               20000 non-null  int64         \n",
      " 2   customer_id              20000 non-null  int64         \n",
      " 3   transaction_date         20000 non-null  datetime64[ns]\n",
      " 4   online_order             20000 non-null  float64       \n",
      " 5   order_status             20000 non-null  object        \n",
      " 6   brand                    20000 non-null  object        \n",
      " 7   product_line             20000 non-null  object        \n",
      " 8   product_class            20000 non-null  object        \n",
      " 9   product_size             20000 non-null  object        \n",
      " 10  list_price               20000 non-null  float64       \n",
      " 11  standard_cost            20000 non-null  float64       \n",
      " 12  product_first_sold_date  20000 non-null  object        \n",
      "dtypes: datetime64[ns](1), float64(3), int64(3), object(6)\n",
      "memory usage: 2.0+ MB\n",
      "None\n"
     ]
    }
   ],
   "source": [
    "# fill NA bằng ffill, lưu vào bảng df_fillna_ffill và in ra info\n",
    "\n",
    "df_fillna_ffill = transactions.fillna(method='ffill')\n",
    "\n",
    "print(df_fillna_ffill.info())"
   ]
  },
  {
   "cell_type": "code",
   "execution_count": 258,
   "metadata": {
    "scrolled": true
   },
   "outputs": [
    {
     "name": "stdout",
     "output_type": "stream",
     "text": [
      "<class 'pandas.core.frame.DataFrame'>\n",
      "RangeIndex: 20000 entries, 0 to 19999\n",
      "Data columns (total 13 columns):\n",
      " #   Column                   Non-Null Count  Dtype         \n",
      "---  ------                   --------------  -----         \n",
      " 0   transaction_id           20000 non-null  int64         \n",
      " 1   product_id               20000 non-null  int64         \n",
      " 2   customer_id              20000 non-null  int64         \n",
      " 3   transaction_date         20000 non-null  datetime64[ns]\n",
      " 4   online_order             20000 non-null  float64       \n",
      " 5   order_status             20000 non-null  object        \n",
      " 6   brand                    19998 non-null  object        \n",
      " 7   product_line             20000 non-null  object        \n",
      " 8   product_class            20000 non-null  object        \n",
      " 9   product_size             20000 non-null  object        \n",
      " 10  list_price               20000 non-null  float64       \n",
      " 11  standard_cost            20000 non-null  float64       \n",
      " 12  product_first_sold_date  20000 non-null  object        \n",
      "dtypes: datetime64[ns](1), float64(3), int64(3), object(6)\n",
      "memory usage: 2.0+ MB\n",
      "None\n"
     ]
    }
   ],
   "source": [
    "# fill NA bằng bfill, lưu vào bảng df_fillna_bfill và in ra info\n",
    "\n",
    "df_fillna_bfill = transactions.fillna(method='bfill')\n",
    "\n",
    "print(df_fillna_bfill.info())"
   ]
  },
  {
   "cell_type": "markdown",
   "metadata": {},
   "source": [
    "## 1.3. Assess Categorical Data"
   ]
  },
  {
   "cell_type": "code",
   "execution_count": 259,
   "metadata": {
    "scrolled": false
   },
   "outputs": [
    {
     "name": "stdout",
     "output_type": "stream",
     "text": [
      "   customer_id      first_name  last_name  gender  \\\n",
      "0            1         Laraine  Medendorp       F   \n",
      "1            2             Eli    Bockman    Male   \n",
      "2            3           Arlin     Dearle    Male   \n",
      "3            4          Talbot        NaN    Male   \n",
      "4            5  Sheila-kathryn     Calton  Female   \n",
      "\n",
      "   past_3_years_bike_related_purchases        DOB               job_title  \\\n",
      "0                                   99 1953-10-12     Executive Secretary   \n",
      "1                                   99 1980-12-16  Administrative Officer   \n",
      "2                                   99 1954-01-20      Recruiting Manager   \n",
      "3                                   99 1961-10-03                     NaN   \n",
      "4                                   99 1977-05-13           Senior Editor   \n",
      "\n",
      "  job_industry_category     wealth_segment deceased_indicator  \\\n",
      "0                Health      Mass Customer                  N   \n",
      "1    Financial Services      Mass Customer                  N   \n",
      "2              Property      Mass Customer                  N   \n",
      "3                    IT      Mass Customer                  N   \n",
      "4                   NaN  Affluent Customer                  N   \n",
      "\n",
      "                                             default owns_car  tenure  \n",
      "0                                                 \"'      Yes    11.0  \n",
      "1                       <script>alert('hi')</script>      Yes    16.0  \n",
      "2                                2018-02-01 00:00:00      Yes    15.0  \n",
      "3  () { _; } >_[$($())] { touch /tmp/blns.shellsh...       No     7.0  \n",
      "4                                                NIL      Yes     8.0  \n"
     ]
    },
    {
     "name": "stderr",
     "output_type": "stream",
     "text": [
      "/var/folders/13/jn6_6w2n0wz97kr84bv2y8r80000gn/T/ipykernel_39648/476339492.py:3: FutureWarning: Inferring datetime64[ns] from data containing strings is deprecated and will be removed in a future version. To retain the old behavior explicitly pass Series(data, dtype=datetime64[ns])\n",
      "  demographics = pd.read_excel('KPMG.xlsx', sheet_name='CustomerDemographic')\n"
     ]
    }
   ],
   "source": [
    "# load sheet Demographic và hiển thị 5 dòng đầu tiên\n",
    "\n",
    "demographics = pd.read_excel('KPMG.xlsx', sheet_name='CustomerDemographic')\n",
    "\n",
    "print(demographics.head(5))"
   ]
  },
  {
   "cell_type": "code",
   "execution_count": 260,
   "metadata": {},
   "outputs": [
    {
     "name": "stdout",
     "output_type": "stream",
     "text": [
      "<class 'pandas.core.frame.DataFrame'>\n",
      "RangeIndex: 4000 entries, 0 to 3999\n",
      "Data columns (total 13 columns):\n",
      " #   Column                               Non-Null Count  Dtype         \n",
      "---  ------                               --------------  -----         \n",
      " 0   customer_id                          4000 non-null   int64         \n",
      " 1   first_name                           4000 non-null   object        \n",
      " 2   last_name                            3875 non-null   object        \n",
      " 3   gender                               4000 non-null   object        \n",
      " 4   past_3_years_bike_related_purchases  4000 non-null   int64         \n",
      " 5   DOB                                  3913 non-null   datetime64[ns]\n",
      " 6   job_title                            3494 non-null   object        \n",
      " 7   job_industry_category                3344 non-null   object        \n",
      " 8   wealth_segment                       4000 non-null   object        \n",
      " 9   deceased_indicator                   4000 non-null   object        \n",
      " 10  default                              3698 non-null   object        \n",
      " 11  owns_car                             4000 non-null   object        \n",
      " 12  tenure                               3913 non-null   float64       \n",
      "dtypes: datetime64[ns](1), float64(1), int64(2), object(9)\n",
      "memory usage: 406.4+ KB\n",
      "None\n"
     ]
    }
   ],
   "source": [
    "# in ra info bảng\n",
    "print(demographics.info())"
   ]
  },
  {
   "cell_type": "code",
   "execution_count": 261,
   "metadata": {
    "scrolled": false
   },
   "outputs": [
    {
     "data": {
      "text/html": [
       "<div>\n",
       "<style scoped>\n",
       "    .dataframe tbody tr th:only-of-type {\n",
       "        vertical-align: middle;\n",
       "    }\n",
       "\n",
       "    .dataframe tbody tr th {\n",
       "        vertical-align: top;\n",
       "    }\n",
       "\n",
       "    .dataframe thead th {\n",
       "        text-align: right;\n",
       "    }\n",
       "</style>\n",
       "<table border=\"1\" class=\"dataframe\">\n",
       "  <thead>\n",
       "    <tr style=\"text-align: right;\">\n",
       "      <th></th>\n",
       "      <th>first_name</th>\n",
       "      <th>last_name</th>\n",
       "      <th>gender</th>\n",
       "      <th>job_title</th>\n",
       "      <th>job_industry_category</th>\n",
       "      <th>wealth_segment</th>\n",
       "      <th>deceased_indicator</th>\n",
       "      <th>default</th>\n",
       "      <th>owns_car</th>\n",
       "    </tr>\n",
       "  </thead>\n",
       "  <tbody>\n",
       "    <tr>\n",
       "      <th>count</th>\n",
       "      <td>4000</td>\n",
       "      <td>3875</td>\n",
       "      <td>4000</td>\n",
       "      <td>3494</td>\n",
       "      <td>3344</td>\n",
       "      <td>4000</td>\n",
       "      <td>4000</td>\n",
       "      <td>3698</td>\n",
       "      <td>4000</td>\n",
       "    </tr>\n",
       "    <tr>\n",
       "      <th>unique</th>\n",
       "      <td>3139</td>\n",
       "      <td>3725</td>\n",
       "      <td>6</td>\n",
       "      <td>195</td>\n",
       "      <td>9</td>\n",
       "      <td>3</td>\n",
       "      <td>2</td>\n",
       "      <td>90</td>\n",
       "      <td>2</td>\n",
       "    </tr>\n",
       "    <tr>\n",
       "      <th>top</th>\n",
       "      <td>Max</td>\n",
       "      <td>Pristnor</td>\n",
       "      <td>Female</td>\n",
       "      <td>Business Systems Development Analyst</td>\n",
       "      <td>Manufacturing</td>\n",
       "      <td>Mass Customer</td>\n",
       "      <td>N</td>\n",
       "      <td>100</td>\n",
       "      <td>Yes</td>\n",
       "    </tr>\n",
       "    <tr>\n",
       "      <th>freq</th>\n",
       "      <td>5</td>\n",
       "      <td>3</td>\n",
       "      <td>2037</td>\n",
       "      <td>45</td>\n",
       "      <td>799</td>\n",
       "      <td>2000</td>\n",
       "      <td>3998</td>\n",
       "      <td>113</td>\n",
       "      <td>2024</td>\n",
       "    </tr>\n",
       "  </tbody>\n",
       "</table>\n",
       "</div>"
      ],
      "text/plain": [
       "       first_name last_name  gender                             job_title  \\\n",
       "count        4000      3875    4000                                  3494   \n",
       "unique       3139      3725       6                                   195   \n",
       "top           Max  Pristnor  Female  Business Systems Development Analyst   \n",
       "freq            5         3    2037                                    45   \n",
       "\n",
       "       job_industry_category wealth_segment deceased_indicator  default  \\\n",
       "count                   3344           4000               4000     3698   \n",
       "unique                     9              3                  2       90   \n",
       "top            Manufacturing  Mass Customer                  N      100   \n",
       "freq                     799           2000               3998      113   \n",
       "\n",
       "       owns_car  \n",
       "count      4000  \n",
       "unique        2  \n",
       "top         Yes  \n",
       "freq       2024  "
      ]
     },
     "execution_count": 261,
     "metadata": {},
     "output_type": "execute_result"
    }
   ],
   "source": [
    "# describe các giá trị object\n",
    "demographics.describe(include='object')"
   ]
  },
  {
   "cell_type": "code",
   "execution_count": 262,
   "metadata": {},
   "outputs": [],
   "source": [
    "# Remove all NA rows, then use output for the following steps\n",
    "\n",
    "dmg_dropna = demographics.dropna()"
   ]
  },
  {
   "cell_type": "code",
   "execution_count": 263,
   "metadata": {},
   "outputs": [
    {
     "name": "stdout",
     "output_type": "stream",
     "text": [
      "['F' 'Male' 'Female' 'Femal']\n"
     ]
    }
   ],
   "source": [
    "# In ra các giá trị unique của cột gender\n",
    "\n",
    "print(dmg_dropna.gender.unique())"
   ]
  },
  {
   "cell_type": "code",
   "execution_count": 264,
   "metadata": {},
   "outputs": [
    {
     "name": "stdout",
     "output_type": "stream",
     "text": [
      "['Female' 'Male']\n"
     ]
    }
   ],
   "source": [
    "# Quy chuẩn cột gender về các nhóm Male, Female, Unisex và in ra giá trị unique mới\n",
    "dmg2 = dmg_dropna.replace(to_replace=['F','Femal'],value='Female').replace(to_replace='U',value='Unisex')\n",
    "\n",
    "print(dmg2.gender.unique())"
   ]
  },
  {
   "cell_type": "code",
   "execution_count": 265,
   "metadata": {},
   "outputs": [
    {
     "name": "stdout",
     "output_type": "stream",
     "text": [
      "91\n",
      "20\n"
     ]
    }
   ],
   "source": [
    "# Tính tuổi của mỗi khách hàng, lưu vào cột \"age\" và in ra min age, max age\n",
    "\n",
    "dmg2['age'] = (pd.Timestamp('now') - dmg2['DOB']).astype('<m8[Y]')\n",
    "dmg2['age'] = dmg2['age'].round().astype('Int64')\n",
    "\n",
    "print(dmg2['age'].max())\n",
    "print(dmg2['age'].min())\n"
   ]
  },
  {
   "cell_type": "code",
   "execution_count": 266,
   "metadata": {},
   "outputs": [
    {
     "name": "stdout",
     "output_type": "stream",
     "text": [
      "0        Older\n",
      "1       Middle\n",
      "2        Older\n",
      "8       Middle\n",
      "9        Young\n",
      "         ...  \n",
      "3992    Middle\n",
      "3993     Young\n",
      "3994    Middle\n",
      "3995    Middle\n",
      "3996     Young\n",
      "Name: age_group, Length: 2630, dtype: category\n",
      "Categories (3, object): ['Young' < 'Middle' < 'Older']\n"
     ]
    }
   ],
   "source": [
    "# phân nhóm khách hàng dưới 35 tuổi là nhóm \"Young\", Từ 35 - 55 là \"Middle\", trên 55 là \"Older\"\n",
    "# lưu vào cột \"age_group\" bằng hàm cut\n",
    "\n",
    "dmg2['age_group'] = pd.cut(x=dmg2['age'], bins=[20, 35, 55, 91], labels=['Young','Middle','Older'])\n",
    "\n",
    "print(dmg2['age_group'])"
   ]
  },
  {
   "cell_type": "markdown",
   "metadata": {},
   "source": [
    "# 2. Data Completeness"
   ]
  },
  {
   "cell_type": "code",
   "execution_count": 267,
   "metadata": {
    "scrolled": true
   },
   "outputs": [
    {
     "name": "stdout",
     "output_type": "stream",
     "text": [
      "       transaction_id  product_id  customer_id transaction_date  online_order  \\\n",
      "0                 NaN         NaN          NaN              NaT           NaN   \n",
      "1                 NaN         NaN          NaN              NaT           NaN   \n",
      "2                 NaN         NaN          NaN              NaT           NaN   \n",
      "3                 NaN         NaN          NaN              NaT           NaN   \n",
      "4                 NaN         NaN          NaN              NaT           NaN   \n",
      "...               ...         ...          ...              ...           ...   \n",
      "19995             NaN         NaN          NaN              NaT           NaN   \n",
      "19996             NaN         NaN          NaN              NaT           NaN   \n",
      "19997             NaN         NaN          NaN              NaT           NaN   \n",
      "19998             NaN         NaN          NaN              NaT           NaN   \n",
      "19999             NaN         NaN          NaN              NaT           NaN   \n",
      "\n",
      "      order_status brand product_line product_class product_size  ...  DOB  \\\n",
      "0              NaN   NaN          NaN           NaN          NaN  ...  NaT   \n",
      "1              NaN   NaN          NaN           NaN          NaN  ...  NaT   \n",
      "2              NaN   NaN          NaN           NaN          NaN  ...  NaT   \n",
      "3              NaN   NaN          NaN           NaN          NaN  ...  NaT   \n",
      "4              NaN   NaN          NaN           NaN          NaN  ...  NaT   \n",
      "...            ...   ...          ...           ...          ...  ...  ...   \n",
      "19995          NaN   NaN          NaN           NaN          NaN  ...  NaT   \n",
      "19996          NaN   NaN          NaN           NaN          NaN  ...  NaT   \n",
      "19997          NaN   NaN          NaN           NaN          NaN  ...  NaT   \n",
      "19998          NaN   NaN          NaN           NaN          NaN  ...  NaT   \n",
      "19999          NaN   NaN          NaN           NaN          NaN  ...  NaT   \n",
      "\n",
      "       job_title job_industry_category wealth_segment deceased_indicator  \\\n",
      "0            NaN                   NaN            NaN                NaN   \n",
      "1            NaN                   NaN            NaN                NaN   \n",
      "2            NaN                   NaN            NaN                NaN   \n",
      "3            NaN                   NaN            NaN                NaN   \n",
      "4            NaN                   NaN            NaN                NaN   \n",
      "...          ...                   ...            ...                ...   \n",
      "19995        NaN                   NaN            NaN                NaN   \n",
      "19996        NaN                   NaN            NaN                NaN   \n",
      "19997        NaN                   NaN            NaN                NaN   \n",
      "19998        NaN                   NaN            NaN                NaN   \n",
      "19999        NaN                   NaN            NaN                NaN   \n",
      "\n",
      "      default  owns_car tenure   age age_group  \n",
      "0         NaN       NaN    NaN  <NA>       NaN  \n",
      "1         NaN       NaN    NaN  <NA>       NaN  \n",
      "2         NaN       NaN    NaN  <NA>       NaN  \n",
      "3         NaN       NaN    NaN  <NA>       NaN  \n",
      "4         NaN       NaN    NaN  <NA>       NaN  \n",
      "...       ...       ...    ...   ...       ...  \n",
      "19995     NaN       NaN    NaN  <NA>       NaN  \n",
      "19996     NaN       NaN    NaN  <NA>       NaN  \n",
      "19997     NaN       NaN    NaN  <NA>       NaN  \n",
      "19998     NaN       NaN    NaN  <NA>       NaN  \n",
      "19999     NaN       NaN    NaN  <NA>       NaN  \n",
      "\n",
      "[20000 rows x 27 columns]\n"
     ]
    }
   ],
   "source": [
    "# join bảng transactions vs demographic (đều đã dropna) và in ra những giao dịch thiếu thông tin demographic (last name hoặc first name)\n",
    "\n",
    "tnd = df_fillna_ffill.merge(dmg2, on='customer_id', how='left')\n",
    "\n",
    "print(tnd.where(tnd[['first_name','last_name']].isna()))"
   ]
  },
  {
   "cell_type": "markdown",
   "metadata": {},
   "source": [
    "# 3. Data Aggregation (after dropping null values)"
   ]
  },
  {
   "cell_type": "code",
   "execution_count": 268,
   "metadata": {
    "scrolled": true
   },
   "outputs": [
    {
     "name": "stdout",
     "output_type": "stream",
     "text": [
      "3494\n"
     ]
    }
   ],
   "source": [
    "# tính tổng khách hàng có phát sinh giao dịch bằng hàm nunique\n",
    "\n",
    "total_buyers = tnd['customer_id'].where(tnd['transaction_id'].notna()).nunique()\n",
    "print(total_buyers)"
   ]
  },
  {
   "cell_type": "code",
   "execution_count": 269,
   "metadata": {
    "scrolled": true
   },
   "outputs": [
    {
     "name": "stdout",
     "output_type": "stream",
     "text": [
      "year_month\n",
      "01 2017    1354\n",
      "02 2017    1286\n",
      "03 2017    1317\n",
      "04 2017    1310\n",
      "05 2017    1310\n",
      "06 2017    1266\n",
      "07 2017    1354\n",
      "08 2017    1372\n",
      "09 2017    1263\n",
      "10 2017    1414\n",
      "11 2017    1319\n",
      "12 2017    1322\n",
      "Name: customer_id, dtype: int64\n"
     ]
    }
   ],
   "source": [
    "# Tính số khách hàng mỗi tháng\n",
    "# tạo column year_month bằng hàm dt.strftime\n",
    "# group by year_month và nunique\n",
    "\n",
    "tnd['year_month'] = tnd['transaction_date'].dt.strftime(\"%m %Y\")\n",
    "\n",
    "monthly_buyers = tnd.groupby(['year_month'])['customer_id'].nunique()\n",
    "\n",
    "print(monthly_buyers)\n"
   ]
  },
  {
   "cell_type": "code",
   "execution_count": 270,
   "metadata": {
    "scrolled": true
   },
   "outputs": [
    {
     "name": "stdout",
     "output_type": "stream",
     "text": [
      "             gross_margin\n",
      "year_month               \n",
      "01 2017     934838.419988\n",
      "02 2017     872705.900000\n",
      "03 2017     887466.540000\n",
      "04 2017     905864.820000\n",
      "05 2017     910675.940000\n",
      "06 2017     859906.620000\n",
      "07 2017     941508.670000\n",
      "08 2017     974279.040000\n",
      "09 2017     859235.890000\n",
      "10 2017     982080.074984\n",
      "11 2017     932136.200000\n",
      "12 2017     887889.930000\n"
     ]
    }
   ],
   "source": [
    "# Tính gross margin của mỗi tháng. gross_margin = list_price - standard_cost\n",
    "# tạo column gross_margin\n",
    "# group by year_month và sử dụng hàm agg\n",
    "\n",
    "tnd['gross_margin'] = tnd['list_price'].astype(float) - tnd['standard_cost'].astype(float)\n",
    "tnd['gross_margin'] = tnd[tnd['order_status']=='Approved']['gross_margin']\n",
    "monthly_gross_margin = tnd.groupby(['year_month']).agg({'gross_margin': 'sum'})\n",
    "\n",
    "print(monthly_gross_margin)"
   ]
  },
  {
   "cell_type": "code",
   "execution_count": 271,
   "metadata": {
    "scrolled": false
   },
   "outputs": [
    {
     "name": "stdout",
     "output_type": "stream",
     "text": [
      "                           transaction_id\n",
      "online_order order_status                \n",
      "0.0          Approved                9879\n",
      "             Cancelled                105\n",
      "1.0          Approved                9942\n",
      "             Cancelled                 74\n",
      "                            list_price\n",
      "online_order order_status             \n",
      "0.0          Approved      10944029.09\n",
      "             Cancelled       114971.47\n",
      "1.0          Approved      11018535.30\n",
      "             Cancelled        79053.12\n"
     ]
    }
   ],
   "source": [
    "# Tính số lượng order và doanh thu group by online_order và order_status \n",
    "# group by online_order, order_status và sử dụng hàm agg\n",
    "\n",
    "gb_orders = tnd.groupby(['online_order','order_status']).agg({'transaction_id': lambda x: x.nunique()})\n",
    "print(gb_orders)\n",
    "\n",
    "gb_revenue = tnd.groupby(['online_order','order_status']).agg({'list_price': 'sum'})\n",
    "print(gb_revenue)"
   ]
  },
  {
   "cell_type": "markdown",
   "metadata": {},
   "source": [
    "# 4. Data Visualization"
   ]
  },
  {
   "cell_type": "code",
   "execution_count": 272,
   "metadata": {},
   "outputs": [],
   "source": [
    "# Sử dụng seaborn và vẽ ra 5 chart khác nhau (column, line, box,...) với đầy đủ tên chart, tên các trục và chú thích.\n",
    "# Comment insight/message muốn truyền tải thông qua từng chart\n",
    "\n",
    "import matplotlib.pyplot as plt\n",
    "import seaborn as sns"
   ]
  },
  {
   "cell_type": "code",
   "execution_count": 273,
   "metadata": {},
   "outputs": [
    {
     "data": {
      "image/png": "[encoded data removed]",
      "text/plain": [
       "<Figure size 360x360 with 1 Axes>"
      ]
     },
     "metadata": {
      "needs_background": "light"
     },
     "output_type": "display_data"
    }
   ],
   "source": [
    "# gross_margin theo year_month\n",
    "\n",
    "tnd = tnd.sort_values(['year_month'])\n",
    "g = sns.relplot(x='year_month', y='gross_margin', data=tnd, kind='line', estimator=sum, markers=True, ci=None)\n",
    "g.fig.suptitle('Monthly Gross Margin (2017)')\n",
    "g.set(xlabel='Month',ylabel='Gross Margin')\n",
    "plt.xticks(rotation=45)\n",
    "plt.show()"
   ]
  },
  {
   "cell_type": "code",
   "execution_count": 274,
   "metadata": {},
   "outputs": [
    {
     "data": {
      "image/png": "[encoded data removed]",
      "text/plain": [
       "<Figure size 360x360 with 1 Axes>"
      ]
     },
     "metadata": {
      "needs_background": "light"
     },
     "output_type": "display_data"
    }
   ],
   "source": [
    "# total revenue theo year_month\n",
    "\n",
    "tnd['revenue'] = tnd[tnd['order_status']=='Approved']['list_price']\n",
    "\n",
    "g = sns.relplot(x='year_month', y='revenue', data=tnd, kind='line', markers=True, estimator=sum, ci=None)\n",
    "g.fig.suptitle('Monthly Revenue (2017)')\n",
    "g.set(xlabel='Month',ylabel='Revenue')\n",
    "plt.xticks(rotation=45)\n",
    "plt.show()"
   ]
  },
  {
   "cell_type": "raw",
   "metadata": {},
   "source": [
    "# doanh thu và lợi nhuận đạt peak vào tháng 8 và chạm đáy vào tháng 6.\n",
    "# thấy được pattern cứ 3 tháng lợi nhuận lại tụt sâu một lần."
   ]
  },
  {
   "cell_type": "code",
   "execution_count": 275,
   "metadata": {},
   "outputs": [
    {
     "data": {
      "image/png": "[encoded data removed]",
      "text/plain": [
       "<Figure size 432x288 with 1 Axes>"
      ]
     },
     "metadata": {
      "needs_background": "light"
     },
     "output_type": "display_data"
    }
   ],
   "source": [
    "# total orders by order_status\n",
    "\n",
    "tnd['orders'] = str(tnd['transaction_id'])\n",
    "\n",
    "g = sns.countplot(data=tnd, y='orders', hue='order_status')\n",
    "g.set_xlabel('Total Orders')\n",
    "g.set_ylabel('Order Status')\n",
    "g.set(yticks=[])\n",
    "g.set_title('Successful Orders vs. Cancelled Orders')\n",
    "plt.show()"
   ]
  },
  {
   "cell_type": "raw",
   "metadata": {},
   "source": [
    "# lượng đơn hàng bị cancel không nhiều và giá trị cũng ko đáng kể."
   ]
  },
  {
   "cell_type": "code",
   "execution_count": 276,
   "metadata": {},
   "outputs": [
    {
     "data": {
      "image/png": "[encoded data removed]",
      "text/plain": [
       "<Figure size 432x288 with 1 Axes>"
      ]
     },
     "metadata": {
      "needs_background": "light"
     },
     "output_type": "display_data"
    }
   ],
   "source": [
    "# total orders từng brand\n",
    "\n",
    "g = sns.countplot(data=tnd, y='orders', hue='brand')\n",
    "g.set_xlabel('Total Orders')\n",
    "g.set_ylabel('Brand')\n",
    "g.set(yticks=[])\n",
    "g.set_title('Total Orders by Brand (2017)')\n",
    "plt.show()"
   ]
  },
  {
   "cell_type": "code",
   "execution_count": 277,
   "metadata": {},
   "outputs": [
    {
     "data": {
      "image/png": "[encoded data removed]",
      "text/plain": [
       "<Figure size 360x360 with 1 Axes>"
      ]
     },
     "metadata": {
      "needs_background": "light"
     },
     "output_type": "display_data"
    }
   ],
   "source": [
    "# gross margin từng brand\n",
    "\n",
    "g = sns.catplot(x='brand', y='gross_margin', data=tnd, kind='bar', estimator=sum, ci=None)\n",
    "g.fig.suptitle('Gross Margin by Brand (2017)')\n",
    "g.set(xlabel='Brand',ylabel='Gross Margin')\n",
    "plt.xticks(rotation=45)\n",
    "plt.show()"
   ]
  },
  {
   "cell_type": "raw",
   "metadata": {},
   "source": [
    "brand bán nhiều nhất là Solex, nhưng brand đạt lợi nhuận cao nhất là WeareA2B."
   ]
  },
  {
   "cell_type": "code",
   "execution_count": 278,
   "metadata": {},
   "outputs": [
    {
     "data": {
      "image/png": "[encoded data removed]",
      "text/plain": [
       "<Figure size 432x288 with 1 Axes>"
      ]
     },
     "metadata": {
      "needs_background": "light"
     },
     "output_type": "display_data"
    }
   ],
   "source": [
    "# total orders each product_class\n",
    "\n",
    "g = sns.countplot(data=tnd, y='orders', hue='product_class')\n",
    "g.set_xlabel('Total Orders')\n",
    "g.set_ylabel('Product Class')\n",
    "g.set(yticks=[])\n",
    "g.set_title('Total Orders by Product Class (2017)')\n",
    "plt.show()"
   ]
  },
  {
   "cell_type": "code",
   "execution_count": 279,
   "metadata": {},
   "outputs": [
    {
     "data": {
      "image/png": "[encoded data removed]",
      "text/plain": [
       "<Figure size 437x360 with 1 Axes>"
      ]
     },
     "metadata": {
      "needs_background": "light"
     },
     "output_type": "display_data"
    }
   ],
   "source": [
    "# gross_margin by brand and product_class\n",
    "\n",
    "g = sns.catplot(x='brand', y='gross_margin', data=tnd, kind='bar', hue='product_class', estimator=sum, ci=None)\n",
    "g.fig.suptitle('Gross Margin by Brand and Product Class (2017)')\n",
    "g.set(xlabel='Brand',ylabel='Gross Margin')\n",
    "plt.xticks(rotation=45)\n",
    "plt.show()"
   ]
  },
  {
   "cell_type": "raw",
   "metadata": {},
   "source": [
    "# phân khúc medium bán nhiều nhất và cũng mang lại lợi nhuận cao nhất."
   ]
  },
  {
   "cell_type": "code",
   "execution_count": 280,
   "metadata": {},
   "outputs": [
    {
     "data": {
      "image/png": "[encoded data removed]",
      "text/plain": [
       "<Figure size 432x288 with 1 Axes>"
      ]
     },
     "metadata": {
      "needs_background": "light"
     },
     "output_type": "display_data"
    }
   ],
   "source": [
    "# total orders từng product line\n",
    "\n",
    "g = sns.countplot(data=tnd, y='orders', hue='product_line')\n",
    "g.set_xlabel('Total Orders')\n",
    "g.set_ylabel('Product Line')\n",
    "g.set(yticks=[])\n",
    "g.set_title('Total Orders by Product Line (2017)')\n",
    "plt.show()"
   ]
  },
  {
   "cell_type": "code",
   "execution_count": 281,
   "metadata": {},
   "outputs": [
    {
     "data": {
      "image/png": "[encoded data removed]",
      "text/plain": [
       "<Figure size 442.625x360 with 1 Axes>"
      ]
     },
     "metadata": {
      "needs_background": "light"
     },
     "output_type": "display_data"
    }
   ],
   "source": [
    "# gross_margin by brand and product_line\n",
    "\n",
    "g = sns.catplot(x='brand', y='gross_margin', data=tnd, kind='bar', hue='product_line', estimator=sum, ci=None)\n",
    "g.fig.suptitle('Gross Margin by Brand and Product Line (2017)')\n",
    "g.set(xlabel='Brand',ylabel='Gross Margin')\n",
    "plt.xticks(rotation=45)\n",
    "plt.show()"
   ]
  },
  {
   "cell_type": "raw",
   "metadata": {},
   "source": [
    "# lợi nhuận từ dòng sp Standard là cao nhất và cũng chiếm phần lớn tổng lợi nhuận ở tất cả các brand.\n",
    "# trong khi Solex bán nhiều đơn nhất, WeareA2B đạt lợi nhuận cao nhất và cũng là brand bán nhiều sp Touring nhất. có thể thấy bên cạnh mặt hàng phổ thông, Touring là phân khúc tiềm năng lớn thứ 2 của brand này."
   ]
  },
  {
   "cell_type": "code",
   "execution_count": 282,
   "metadata": {},
   "outputs": [
    {
     "data": {
      "image/png": "[encoded data removed]",
      "text/plain": [
       "<Figure size 429.25x360 with 1 Axes>"
      ]
     },
     "metadata": {
      "needs_background": "light"
     },
     "output_type": "display_data"
    }
   ],
   "source": [
    "# gross_margin by age_group and brand\n",
    "\n",
    "g = sns.catplot(x='brand', y='gross_margin', data=tnd, kind='bar', hue='age_group', estimator=sum, ci=None)\n",
    "g.fig.suptitle('Gross Margin by Brand and Age Group (2017)')\n",
    "g.set(xlabel='Brand',ylabel='Gross Margin')\n",
    "plt.xticks(rotation=45)\n",
    "plt.show()"
   ]
  },
  {
   "cell_type": "raw",
   "metadata": {},
   "source": [
    "# khách hàng trong nhóm middle age là phân khúc chiếm đa số\n",
    "# tổng doanh thu của các brand xếp từ cao đến thấp: WeareA2B > Solex > Trek Bicycles > Giant Bicycles > OHM Bicycles > Norco Bicyles\n",
    "# thứ tự này là như nhau với cả 3 nhóm tuổi."
   ]
  },
  {
   "cell_type": "code",
   "execution_count": 283,
   "metadata": {},
   "outputs": [
    {
     "data": {
      "image/png": "[encoded data removed]",
      "text/plain": [
       "<Figure size 429.25x360 with 1 Axes>"
      ]
     },
     "metadata": {
      "needs_background": "light"
     },
     "output_type": "display_data"
    }
   ],
   "source": [
    "# gross_margin by age_group and product_class\n",
    "\n",
    "g = sns.catplot(x='product_class', y='gross_margin', data=tnd, kind='bar', hue='age_group', estimator=sum, ci=None)\n",
    "g.fig.suptitle('Gross Margin by Product Class and Age Group (2017)')\n",
    "g.set(xlabel='Product Class',ylabel='Gross Margin')\n",
    "plt.xticks(rotation=45)\n",
    "plt.show()"
   ]
  },
  {
   "cell_type": "code",
   "execution_count": 284,
   "metadata": {},
   "outputs": [
    {
     "data": {
      "image/png": "[encoded data removed]",
      "text/plain": [
       "<Figure size 414.5x360 with 1 Axes>"
      ]
     },
     "metadata": {
      "needs_background": "light"
     },
     "output_type": "display_data"
    }
   ],
   "source": [
    "# gross_margin by age_group and owns_car\n",
    "\n",
    "g = sns.catplot(x='age_group', y='gross_margin', data=tnd, kind='bar', hue='owns_car', estimator=sum, ci=None)\n",
    "g.fig.suptitle('Gross Margin by Age Group and Car Owners (2017)')\n",
    "g.set(xlabel='Age Group',ylabel='Gross Margin')\n",
    "plt.xticks(rotation=45)\n",
    "plt.show()"
   ]
  },
  {
   "cell_type": "code",
   "execution_count": 285,
   "metadata": {},
   "outputs": [
    {
     "data": {
      "image/png": "[encoded data removed]",
      "text/plain": [
       "<Figure size 432.125x360 with 1 Axes>"
      ]
     },
     "metadata": {
      "needs_background": "light"
     },
     "output_type": "display_data"
    }
   ],
   "source": [
    "# gross margin between age groups by gender\n",
    "\n",
    "g = sns.catplot(x='age_group', y='gross_margin', data=tnd, kind='bar', hue='gender', estimator=sum, ci=None)\n",
    "g.fig.suptitle('Gross Margins between Age Groups by Gender (2017)')\n",
    "g.set(xlabel='Age Group',ylabel='Gross Margin')\n",
    "plt.xticks(rotation=45)\n",
    "plt.show()"
   ]
  },
  {
   "cell_type": "raw",
   "metadata": {},
   "source": [
    "# lợi nhuận đến từ 2 nhóm giới tính và 2 nhóm đối tượng có xe/ko có xe không chênh lệch đáng kể ở mọi phân khúc độ tuổi."
   ]
  },
  {
   "cell_type": "code",
   "execution_count": 286,
   "metadata": {},
   "outputs": [
    {
     "data": {
      "image/png": "[encoded data removed]",
      "text/plain": [
       "<Figure size 440.375x360 with 1 Axes>"
      ]
     },
     "metadata": {
      "needs_background": "light"
     },
     "output_type": "display_data"
    }
   ],
   "source": [
    "# gross margin đến từ các nhóm past purchase trong từng phân khúc tuổi\n",
    "\n",
    "tnd['past_purchase'] = pd.cut(x=tnd['past_3_years_bike_related_purchases'], bins=[0,15,35,55,75,99], labels=['<15','15-35','35-55','55-75','>75'])\n",
    "\n",
    "g = sns.catplot(x='age_group', y='gross_margin', data=tnd, kind='bar', hue='past_purchase', estimator=sum, ci=None)\n",
    "g.fig.suptitle('Gross Margins between Age Groups & Their Past Purchases (2017)')\n",
    "g.set(xlabel='Age Group',ylabel='Gross Margin')\n",
    "plt.xticks(rotation=45)\n",
    "plt.show()"
   ]
  },
  {
   "cell_type": "code",
   "execution_count": 287,
   "metadata": {},
   "outputs": [
    {
     "data": {
      "image/png": "[encoded data removed]",
      "text/plain": [
       "<Figure size 440.375x360 with 1 Axes>"
      ]
     },
     "metadata": {
      "needs_background": "light"
     },
     "output_type": "display_data"
    }
   ],
   "source": [
    "# gross margin đến từ các nhóm past purchase ở từng brand\n",
    "\n",
    "g = sns.catplot(x='brand', y='gross_margin', data=tnd, kind='bar', hue='past_purchase', estimator=sum, ci=None)\n",
    "g.fig.suptitle('Gross Margins From Past Purchases between Brands (2017)')\n",
    "g.set(xlabel='Brand',ylabel='Gross Margin')\n",
    "plt.xticks(rotation=45)\n",
    "plt.show()"
   ]
  },
  {
   "cell_type": "raw",
   "metadata": {},
   "source": [
    "# lượng past purchase cho thấy xu hướng người dùng đã từng có lịch sử mua hàng lâu sẽ có xu hướng quay về làm loyal customers. kết hợp với lượng cancelled order cho thấy sản phẩm của toàn bộ các brand đang giữ chất lượng ổn định."
   ]
  }
 ],
 "metadata": {
  "kernelspec": {
   "display_name": "Python 3 (ipykernel)",
   "language": "python",
   "name": "python3"
  },
  "language_info": {
   "codemirror_mode": {
    "name": "ipython",
    "version": 3
   },
   "file_extension": ".py",
   "mimetype": "text/x-python",
   "name": "python",
   "nbconvert_exporter": "python",
   "pygments_lexer": "ipython3",
   "version": "3.9.12"
  }
 },
 "nbformat": 4,
 "nbformat_minor": 2
}
